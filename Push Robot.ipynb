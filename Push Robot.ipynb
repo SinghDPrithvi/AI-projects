{
 "cells": [
  {
   "cell_type": "code",
   "execution_count": 4,
   "id": "c7b795f7",
   "metadata": {},
   "outputs": [
    {
     "name": "stdout",
     "output_type": "stream",
     "text": [
      "Defaulting to user installation because normal site-packages is not writeable\n",
      "Requirement already satisfied: gymnasium[classic-control] in c:\\users\\prithvi singh\\appdata\\roaming\\python\\python310\\site-packages (0.28.1)\n",
      "Requirement already satisfied: farama-notifications>=0.0.1 in c:\\users\\prithvi singh\\appdata\\roaming\\python\\python310\\site-packages (from gymnasium[classic-control]) (0.0.4)\n",
      "Requirement already satisfied: typing-extensions>=4.3.0 in d:\\users\\lib\\site-packages (from gymnasium[classic-control]) (4.4.0)\n",
      "Requirement already satisfied: cloudpickle>=1.2.0 in d:\\users\\lib\\site-packages (from gymnasium[classic-control]) (2.0.0)\n",
      "Requirement already satisfied: numpy>=1.21.0 in d:\\users\\lib\\site-packages (from gymnasium[classic-control]) (1.23.5)\n",
      "Requirement already satisfied: jax-jumpy>=1.0.0 in c:\\users\\prithvi singh\\appdata\\roaming\\python\\python310\\site-packages (from gymnasium[classic-control]) (1.0.0)\n",
      "Requirement already satisfied: pygame==2.1.3 in c:\\users\\prithvi singh\\appdata\\roaming\\python\\python310\\site-packages (from gymnasium[classic-control]) (2.1.3)\n",
      "Note: you may need to restart the kernel to use updated packages.\n"
     ]
    }
   ],
   "source": [
    "pip install gymnasium[classic-control]"
   ]
  },
  {
   "cell_type": "code",
   "execution_count": 29,
   "id": "fded9661",
   "metadata": {},
   "outputs": [],
   "source": [
    "import os\n",
    "import gymnasium as gym\n",
    "from stable_baselines3 import DQN \n",
    "from stable_baselines3.common.vec_env import DummyVecEnv\n",
    "from stable_baselines3.common.evaluation import evaluate_policy  \n",
    "from stable_baselines3.common.callbacks import EvalCallback, StopTrainingOnRewardThreshold"
   ]
  },
  {
   "cell_type": "code",
   "execution_count": 3,
   "id": "9a95f37e",
   "metadata": {},
   "outputs": [],
   "source": [
    "env = gym.make('CartPole-v1', render_mode = 'human')"
   ]
  },
  {
   "cell_type": "code",
   "execution_count": null,
   "id": "41950f10",
   "metadata": {},
   "outputs": [],
   "source": [
    "  env.reset()\n",
    "for _ in range (1000):  \n",
    "    action = env.action_space.sample()\n",
    "    observation , reward, terminated, truncated, info = env.step(action) \n",
    "    env.render()  \n",
    "    if terminated or truncated :  \n",
    "        env.reset()\n",
    "        \n",
    "env.close "
   ]
  },
  {
   "cell_type": "code",
   "execution_count": 5,
   "id": "daf9481c",
   "metadata": {},
   "outputs": [
    {
     "data": {
      "text/plain": [
       "<bound method Discrete.sample of Discrete(2)>"
      ]
     },
     "execution_count": 5,
     "metadata": {},
     "output_type": "execute_result"
    }
   ],
   "source": [
    "env.action_space.sample"
   ]
  },
  {
   "cell_type": "code",
   "execution_count": 5,
   "id": "6b211642",
   "metadata": {},
   "outputs": [],
   "source": [
    "DQN_path = os.path.join('RL','Model') "
   ]
  },
  {
   "cell_type": "code",
   "execution_count": 35,
   "id": "a2d4dbf2",
   "metadata": {},
   "outputs": [],
   "source": [
    "stop_training = StopTrainingOnRewardThreshold(reward_threshold=200, verbose=1) \n",
    "eval_callback = EvalCallback(env, callback_on_new_best=stop_training, verbose=1)"
   ]
  },
  {
   "cell_type": "code",
   "execution_count": null,
   "id": "2e0ecff4",
   "metadata": {},
   "outputs": [],
   "source": [
    "env = DummyVecEnv([lambda: gym.make(\"CartPole-v1\", render_mode = 'human')]) \n",
    "model =DQN(\"MlpPolicy\",env,verbose=1) \n",
    "model.learn(total_timesteps=2000000, callback = eval_callback)"
   ]
  },
  {
   "cell_type": "code",
   "execution_count": 37,
   "id": "034afae2",
   "metadata": {},
   "outputs": [],
   "source": [
    "model.save(DQN_path) \n",
    "model = DQN.load(DQN_path)\n"
   ]
  },
  {
   "cell_type": "code",
   "execution_count": 38,
   "id": "4c38f735",
   "metadata": {},
   "outputs": [
    {
     "data": {
      "text/plain": [
       "(497.4, 5.370288632839021)"
      ]
     },
     "execution_count": 38,
     "metadata": {},
     "output_type": "execute_result"
    }
   ],
   "source": [
    "evaluate_policy(model, env,n_eval_episodes = 10, render = True)"
   ]
  },
  {
   "cell_type": "code",
   "execution_count": null,
   "id": "838a474b",
   "metadata": {},
   "outputs": [],
   "source": []
  }
 ],
 "metadata": {
  "kernelspec": {
   "display_name": "Python 3 (ipykernel)",
   "language": "python",
   "name": "python3"
  },
  "language_info": {
   "codemirror_mode": {
    "name": "ipython",
    "version": 3
   },
   "file_extension": ".py",
   "mimetype": "text/x-python",
   "name": "python",
   "nbconvert_exporter": "python",
   "pygments_lexer": "ipython3",
   "version": "3.10.9"
  }
 },
 "nbformat": 4,
 "nbformat_minor": 5
}
