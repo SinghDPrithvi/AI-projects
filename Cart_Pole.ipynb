{
 "cells": [
  {
   "cell_type": "markdown",
   "id": "f3f20223",
   "metadata": {},
   "source": [
    "# 0. Installing Dependecies "
   ]
  },
  {
   "cell_type": "code",
   "execution_count": null,
   "id": "0b4f650a",
   "metadata": {},
   "outputs": [],
   "source": [
    "!pip install stable_baselines3[extra] \n",
    "!pip install gymnasium[classic-control]"
   ]
  },
  {
   "cell_type": "markdown",
   "id": "fb93f762",
   "metadata": {},
   "source": [
    "# 1. Import Dependecies "
   ]
  },
  {
   "cell_type": "code",
   "execution_count": null,
   "id": "fded9661",
   "metadata": {},
   "outputs": [],
   "source": [
    "import os\n",
    "import gymnasium as gym\n",
    "from stable_baselines3 import DQN \n",
    "from stable_baselines3.common.vec_env import DummyVecEnv\n",
    "from stable_baselines3.common.evaluation import evaluate_policy  \n",
    "from stable_baselines3.common.callbacks import EvalCallback, StopTrainingOnRewardThreshold"
   ]
  },
  {
   "cell_type": "markdown",
   "id": "03947032",
   "metadata": {},
   "source": [
    "# 2. Making and Testing Enviorment "
   ]
  },
  {
   "cell_type": "code",
   "execution_count": 3,
   "id": "9a95f37e",
   "metadata": {},
   "outputs": [],
   "source": [
    "env = gym.make('CartPole-v1', render_mode = 'human')"
   ]
  },
  {
   "cell_type": "code",
   "execution_count": 4,
   "id": "41950f10",
   "metadata": {},
   "outputs": [
    {
     "data": {
      "text/plain": [
       "<bound method Wrapper.close of <TimeLimit<OrderEnforcing<PassiveEnvChecker<CartPoleEnv<CartPole-v1>>>>>>"
      ]
     },
     "execution_count": 4,
     "metadata": {},
     "output_type": "execute_result"
    }
   ],
   "source": [
    "  env.reset()\n",
    "for i in range (5):  \n",
    "    action = env.action_space.sample()\n",
    "    observation, reward, terminated, truncated, info = env.step(action) \n",
    "    env.render()  \n",
    "    if terminated or truncated :  \n",
    "        env.reset()\n",
    "        \n",
    "env.close "
   ]
  },
  {
   "cell_type": "code",
   "execution_count": 5,
   "id": "daf9481c",
   "metadata": {},
   "outputs": [
    {
     "data": {
      "text/plain": [
       "<bound method Discrete.sample of Discrete(2)>"
      ]
     },
     "execution_count": 5,
     "metadata": {},
     "output_type": "execute_result"
    }
   ],
   "source": [
    "env.action_space.sample"
   ]
  },
  {
   "cell_type": "markdown",
   "id": "420a1223",
   "metadata": {},
   "source": [
    "# 3. Making a Path to save Agent"
   ]
  },
  {
   "cell_type": "code",
   "execution_count": 6,
   "id": "6b211642",
   "metadata": {},
   "outputs": [],
   "source": [
    "DQN_path = os.path.join('RL','Model') "
   ]
  },
  {
   "cell_type": "markdown",
   "id": "0b9de618",
   "metadata": {},
   "source": [
    "# 4. Adding Callback for the Training "
   ]
  },
  {
   "cell_type": "code",
   "execution_count": 15,
   "id": "2171912d",
   "metadata": {},
   "outputs": [],
   "source": [
    "stop_training = StopTrainingOnRewardThreshold(reward_threshold=410, verbose=1) \n",
    "eval_callback = EvalCallback(env, callback_on_new_best=stop_training, verbose=1)"
   ]
  },
  {
   "cell_type": "markdown",
   "id": "8402b0bc-9ac9-44cc-87da-3c833afdec22",
   "metadata": {},
   "source": [
    "# 5. Training The Agent "
   ]
  },
  {
   "cell_type": "code",
   "execution_count": null,
   "id": "43df1691-27e3-4f85-84a8-26aa1b29dbe1",
   "metadata": {},
   "outputs": [],
   "source": [
    "env = DummyVecEnv([lambda: gym.make(\"CartPole-v1\", render_mode = 'human')]) \n",
    "model =DQN(\"MlpPolicy\",env,verbose=1) \n",
    "model.learn(total_timesteps=2000000, callback = eval_callback)"
   ]
  },
  {
   "cell_type": "markdown",
   "id": "78186ddc",
   "metadata": {},
   "source": [
    "# 6. Saving and Evaluating the Agent "
   ]
  },
  {
   "cell_type": "code",
   "execution_count": 17,
   "id": "034afae2",
   "metadata": {},
   "outputs": [],
   "source": [
    "model.save(DQN_path) \n",
    "model = DQN.load(DQN_path)"
   ]
  },
  {
   "cell_type": "code",
   "execution_count": 19,
   "id": "4c38f735",
   "metadata": {},
   "outputs": [
    {
     "data": {
      "text/plain": [
       "(405.8, 122.62365187842025)"
      ]
     },
     "execution_count": 19,
     "metadata": {},
     "output_type": "execute_result"
    }
   ],
   "source": [
    "evaluate_policy(model, env,n_eval_episodes = 10, render = True)"
   ]
  },
  {
   "cell_type": "code",
   "execution_count": null,
   "id": "b0de76be",
   "metadata": {},
   "outputs": [],
   "source": []
  }
 ],
 "metadata": {
  "kernelspec": {
   "display_name": "Python 3 (ipykernel)",
   "language": "python",
   "name": "python3"
  },
  "language_info": {
   "codemirror_mode": {
    "name": "ipython",
    "version": 3
   },
   "file_extension": ".py",
   "mimetype": "text/x-python",
   "name": "python",
   "nbconvert_exporter": "python",
   "pygments_lexer": "ipython3",
   "version": "3.10.12"
  }
 },
 "nbformat": 4,
 "nbformat_minor": 5
}
