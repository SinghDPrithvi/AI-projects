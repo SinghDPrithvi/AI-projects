{
 "cells": [
  {
   "cell_type": "code",
   "execution_count": 1,
   "id": "c23763a9-462a-486d-b171-b20b153c4498",
   "metadata": {},
   "outputs": [],
   "source": [
    "#import all the moduoles \n",
    "import tensorflow as tf \n",
    "import keras "
   ]
  },
  {
   "cell_type": "code",
   "execution_count": 2,
   "id": "44cc805a-2418-448d-801b-4750520c3611",
   "metadata": {},
   "outputs": [],
   "source": [
    "from keras.datasets import mnist \n",
    "(train_images, train_labels),(test_images, test_labels) = mnist.load_data() "
   ]
  },
  {
   "cell_type": "code",
   "execution_count": 3,
   "id": "3c33ca8e-28b0-4980-a772-ffa996fcbd96",
   "metadata": {},
   "outputs": [
    {
     "data": {
      "text/plain": [
       "(60000, 28, 28)"
      ]
     },
     "execution_count": 3,
     "metadata": {},
     "output_type": "execute_result"
    }
   ],
   "source": [
    "train_images.shape"
   ]
  },
  {
   "cell_type": "code",
   "execution_count": 4,
   "id": "21d30806-d918-45f8-8564-1b1435875c95",
   "metadata": {},
   "outputs": [
    {
     "data": {
      "text/plain": [
       "(10000, 28, 28)"
      ]
     },
     "execution_count": 4,
     "metadata": {},
     "output_type": "execute_result"
    }
   ],
   "source": [
    "test_images.shape"
   ]
  },
  {
   "cell_type": "code",
   "execution_count": 5,
   "id": "10bc5b89-75db-4c79-95b9-9674f58c54d2",
   "metadata": {},
   "outputs": [
    {
     "data": {
      "text/plain": [
       "numpy.ndarray"
      ]
     },
     "execution_count": 5,
     "metadata": {},
     "output_type": "execute_result"
    }
   ],
   "source": [
    "type(train_images)\n",
    "type(test_images)"
   ]
  },
  {
   "cell_type": "code",
   "execution_count": 6,
   "id": "c613a874-e3e2-4c16-9c43-0c9eb3bf02e0",
   "metadata": {},
   "outputs": [],
   "source": [
    "train_images = train_images.reshape((60000, 28*28)) \n",
    "train_images = train_images.astype(\"float32\")/255 "
   ]
  },
  {
   "cell_type": "code",
   "execution_count": 7,
   "id": "08f0db7d-54a6-44ad-9fee-2af8d426cb5e",
   "metadata": {},
   "outputs": [],
   "source": [
    "test_images = test_images.reshape((10000, 28*28)) \n",
    "test_images = test_images.astype(\"float32\")/255"
   ]
  },
  {
   "cell_type": "code",
   "execution_count": 8,
   "id": "f1599c28-9da3-4c0d-9b2f-69bf422662f6",
   "metadata": {},
   "outputs": [],
   "source": [
    "from keras.utils import to_categorical \n",
    "train_labels = to_categorical (train_labels) \n",
    "test_labels = to_categorical (test_labels)"
   ]
  },
  {
   "cell_type": "code",
   "execution_count": 9,
   "id": "711f8054-b31b-476e-8a6d-2748c8e26db6",
   "metadata": {},
   "outputs": [],
   "source": [
    "from keras import layers \n",
    "from keras import models"
   ]
  },
  {
   "cell_type": "code",
   "execution_count": 10,
   "id": "703462fe-39cc-4dce-9c9c-443506f6bb26",
   "metadata": {},
   "outputs": [],
   "source": [
    "model = models.Sequential()"
   ]
  },
  {
   "cell_type": "code",
   "execution_count": 11,
   "id": "a75d42d9-a3f9-48cc-88b4-996e9a75894d",
   "metadata": {},
   "outputs": [
    {
     "name": "stdout",
     "output_type": "stream",
     "text": [
      "Model: \"sequential\"\n",
      "_________________________________________________________________\n",
      " Layer (type)                Output Shape              Param #   \n",
      "=================================================================\n",
      " dense (Dense)               (None, 512)               401920    \n",
      "                                                                 \n",
      " dense_1 (Dense)             (None, 10)                5130      \n",
      "                                                                 \n",
      "=================================================================\n",
      "Total params: 407,050\n",
      "Trainable params: 407,050\n",
      "Non-trainable params: 0\n",
      "_________________________________________________________________\n"
     ]
    }
   ],
   "source": [
    "model.add(layers.Dense(512, activation = \"relu\", input_shape = (28*28,))) \n",
    "model.add(layers.Dense(10, activation = \"softmax\"))  \n",
    " \n",
    "model.summary()"
   ]
  },
  {
   "cell_type": "code",
   "execution_count": 12,
   "id": "1114c6db-dabb-4f4c-ba6c-e0cfde9f5f6c",
   "metadata": {},
   "outputs": [],
   "source": [
    "model.compile( optimizer= \"rmsprop\" ,\n",
    "              loss = \"categorical_crossentropy\",        \n",
    "              metrics = [\"accuracy\"]) \n"
   ]
  },
  {
   "cell_type": "code",
   "execution_count": 13,
   "id": "5d4e1f78-c8bf-40a0-b432-cabab787fc84",
   "metadata": {},
   "outputs": [
    {
     "name": "stdout",
     "output_type": "stream",
     "text": [
      "Epoch 1/10\n",
      "100/100 [==============================] - 2s 10ms/step - loss: 0.4181 - accuracy: 0.8819\n",
      "Epoch 2/10\n",
      "100/100 [==============================] - 1s 9ms/step - loss: 0.1875 - accuracy: 0.9466\n",
      "Epoch 3/10\n",
      "100/100 [==============================] - 1s 8ms/step - loss: 0.1284 - accuracy: 0.9633\n",
      "Epoch 4/10\n",
      "100/100 [==============================] - 1s 8ms/step - loss: 0.0963 - accuracy: 0.9720\n",
      "Epoch 5/10\n",
      "100/100 [==============================] - 1s 8ms/step - loss: 0.0748 - accuracy: 0.9785\n",
      "Epoch 6/10\n",
      "100/100 [==============================] - 1s 8ms/step - loss: 0.0605 - accuracy: 0.9821\n",
      "Epoch 7/10\n",
      "100/100 [==============================] - 1s 8ms/step - loss: 0.0494 - accuracy: 0.9860\n",
      "Epoch 8/10\n",
      "100/100 [==============================] - 1s 8ms/step - loss: 0.0407 - accuracy: 0.9881\n",
      "Epoch 9/10\n",
      "100/100 [==============================] - 1s 8ms/step - loss: 0.0335 - accuracy: 0.9908\n",
      "Epoch 10/10\n",
      "100/100 [==============================] - 1s 8ms/step - loss: 0.0274 - accuracy: 0.9928\n"
     ]
    },
    {
     "data": {
      "text/plain": [
       "<keras.callbacks.History at 0x2874918d8e0>"
      ]
     },
     "execution_count": 13,
     "metadata": {},
     "output_type": "execute_result"
    }
   ],
   "source": [
    "model.fit(train_images,\n",
    "          train_labels,\n",
    "          epochs = 10,\n",
    "          batch_size = 600) "
   ]
  },
  {
   "cell_type": "code",
   "execution_count": 14,
   "id": "0cc10f1b-1737-4fe7-8186-6e2b4bcd2050",
   "metadata": {},
   "outputs": [
    {
     "name": "stdout",
     "output_type": "stream",
     "text": [
      "313/313 [==============================] - 1s 2ms/step - loss: 0.0647 - accuracy: 0.9796\n",
      "test_loss : 0.0647139847278595 \n",
      "test_acc :  0.9796000123023987\n"
     ]
    }
   ],
   "source": [
    "test_loss, test_acc = model.evaluate(test_images, test_labels) \n",
    "print(\"test_loss :\", test_loss, \"\\ntest_acc : \", test_acc)"
   ]
  },
  {
   "cell_type": "code",
   "execution_count": 15,
   "id": "e62b8ee2-4ca2-4a75-ac20-598bf7e80b38",
   "metadata": {},
   "outputs": [
    {
     "data": {
      "text/plain": [
       "(10000, 784)"
      ]
     },
     "execution_count": 15,
     "metadata": {},
     "output_type": "execute_result"
    }
   ],
   "source": [
    "test_images.shape"
   ]
  },
  {
   "cell_type": "code",
   "execution_count": null,
   "id": "c79491a9-351c-4deb-8deb-7f91a8770d34",
   "metadata": {},
   "outputs": [],
   "source": []
  },
  {
   "cell_type": "code",
   "execution_count": null,
   "id": "95e6d566-91db-4a88-ba39-d416e01df155",
   "metadata": {},
   "outputs": [],
   "source": []
  },
  {
   "cell_type": "code",
   "execution_count": null,
   "id": "17c04dc2-7f42-42dc-9e78-0e17e31a1932",
   "metadata": {},
   "outputs": [],
   "source": []
  },
  {
   "cell_type": "code",
   "execution_count": null,
   "id": "04f40cab-fa01-4852-89d6-74c1b0e8c26e",
   "metadata": {},
   "outputs": [],
   "source": []
  }
 ],
 "metadata": {
  "kernelspec": {
   "display_name": "Python 3 (ipykernel)",
   "language": "python",
   "name": "python3"
  },
  "language_info": {
   "codemirror_mode": {
    "name": "ipython",
    "version": 3
   },
   "file_extension": ".py",
   "mimetype": "text/x-python",
   "name": "python",
   "nbconvert_exporter": "python",
   "pygments_lexer": "ipython3",
   "version": "3.9.13"
  }
 },
 "nbformat": 4,
 "nbformat_minor": 5
}
